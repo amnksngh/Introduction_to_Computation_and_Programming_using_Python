{
 "cells": [
  {
   "cell_type": "markdown",
   "metadata": {},
   "source": [
    "# Getting Started\n",
    "- All knowledge can be thought of as either declarativce or imperative. **Declarative knowledge** is composed of statements or facts. **Imperative knowledge** is \"how to\" knowledge, or recipe for deducing information.\n",
    "\n",
    "### Heron of Alexandria's way of computing the $\\sqrt{x}$\n",
    "1. Start with a guess, $g$\n",
    "1. If $g*g$ is close enough to $x$, stop and say that g is the answer.\n",
    "1. Otherwise create a new guess by averaging $g$ and $\\frac{x}{g}$, i.e., $\\frac{(\\frac{g+x}{g})}{2}$.\n",
    "1. Using this new guess, which we again call $g$, repeat the process untill $g*g$ is close enough to $x$.\n",
    "This is an example of a `guess-and-check` algorithm."
   ]
  },
  {
   "cell_type": "markdown",
   "metadata": {},
   "source": []
  }
 ],
 "metadata": {
  "language_info": {
   "name": "python"
  },
  "orig_nbformat": 4
 },
 "nbformat": 4,
 "nbformat_minor": 2
}
