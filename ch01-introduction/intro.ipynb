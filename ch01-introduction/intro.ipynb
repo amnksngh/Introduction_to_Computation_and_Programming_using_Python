{
 "cells": [
  {
   "cell_type": "markdown",
   "metadata": {},
   "source": [
    "# Getting Started\n",
    "- All knowledge can be thought of as either declarativce or imperative. **Declarative knowledge** is composed of statements or facts. **Imperative knowledge** is \"how to\" knowledge, or recipe for deducing information.\n",
    "\n",
    "### Heron of Alexandria's way of computing the $/sqrt{x}$"
   ]
  },
  {
   "cell_type": "markdown",
   "metadata": {},
   "source": []
  }
 ],
 "metadata": {
  "language_info": {
   "name": "python"
  },
  "orig_nbformat": 4
 },
 "nbformat": 4,
 "nbformat_minor": 2
}
